{
 "cells": [
  {
   "cell_type": "code",
   "execution_count": 1,
   "id": "19630e27",
   "metadata": {},
   "outputs": [
    {
     "name": "stdout",
     "output_type": "stream",
     "text": [
      "<class 'list'>\n"
     ]
    }
   ],
   "source": [
    "#list  constructor\n",
    "mylist = list()\n",
    "my_list2 = [1, 2,3,4,5,]\n",
    "print(type(my_list2))\n"
   ]
  },
  {
   "cell_type": "markdown",
   "id": "43d7e74f",
   "metadata": {},
   "source": []
  },
  {
   "cell_type": "markdown",
   "id": "7662d28f",
   "metadata": {},
   "source": []
  },
  {
   "cell_type": "code",
   "execution_count": 2,
   "id": "dc386740",
   "metadata": {},
   "outputs": [],
   "source": [
    "studname = [\"sharon\",\"Ugo\",\"Shams\",\"Modest\",\"Nizam\",\"Aisha\"]"
   ]
  },
  {
   "cell_type": "code",
   "execution_count": 3,
   "id": "ccaf966f",
   "metadata": {},
   "outputs": [
    {
     "data": {
      "text/plain": [
       "['sharon', 'Ugo', 'Shams', 'Modest', 'Nizam', 'Aisha']"
      ]
     },
     "execution_count": 3,
     "metadata": {},
     "output_type": "execute_result"
    }
   ],
   "source": [
    "studname "
   ]
  },
  {
   "cell_type": "code",
   "execution_count": 4,
   "id": "de9764d1",
   "metadata": {},
   "outputs": [
    {
     "data": {
      "text/plain": [
       "6"
      ]
     },
     "execution_count": 4,
     "metadata": {},
     "output_type": "execute_result"
    }
   ],
   "source": [
    "len(studname)"
   ]
  },
  {
   "cell_type": "code",
   "execution_count": 5,
   "id": "23a15e50",
   "metadata": {},
   "outputs": [],
   "source": [
    "studname.append(\"Jennifer\")"
   ]
  },
  {
   "cell_type": "code",
   "execution_count": 6,
   "id": "eab9ac06",
   "metadata": {},
   "outputs": [
    {
     "name": "stdout",
     "output_type": "stream",
     "text": [
      "['sharon', 'Ugo', 'Shams', 'Modest', 'Nizam', 'Aisha', 'Jennifer']\n"
     ]
    }
   ],
   "source": [
    "print(studname)"
   ]
  },
  {
   "cell_type": "code",
   "execution_count": 7,
   "id": "9b7916d8",
   "metadata": {},
   "outputs": [],
   "source": [
    "studname.append([\"David\", \"Rashid\"])"
   ]
  },
  {
   "cell_type": "code",
   "execution_count": 8,
   "id": "d44504f7",
   "metadata": {},
   "outputs": [
    {
     "name": "stdout",
     "output_type": "stream",
     "text": [
      "['sharon', 'Ugo', 'Shams', 'Modest', 'Nizam', 'Aisha', 'Jennifer', ['David', 'Rashid']]\n"
     ]
    }
   ],
   "source": [
    "print(studname)"
   ]
  },
  {
   "cell_type": "code",
   "execution_count": 9,
   "id": "b4edb464",
   "metadata": {},
   "outputs": [
    {
     "data": {
      "text/plain": [
       "['David', 'Rashid']"
      ]
     },
     "execution_count": 9,
     "metadata": {},
     "output_type": "execute_result"
    }
   ],
   "source": [
    "studname.pop()"
   ]
  },
  {
   "cell_type": "code",
   "execution_count": 10,
   "id": "9c160157",
   "metadata": {},
   "outputs": [
    {
     "name": "stdout",
     "output_type": "stream",
     "text": [
      "['sharon', 'Ugo', 'Shams', 'Modest', 'Nizam', 'Aisha', 'Jennifer']\n"
     ]
    }
   ],
   "source": [
    "print(studname)"
   ]
  },
  {
   "cell_type": "code",
   "execution_count": 11,
   "id": "dce9b026",
   "metadata": {},
   "outputs": [
    {
     "data": {
      "text/plain": [
       "'Nizam'"
      ]
     },
     "execution_count": 11,
     "metadata": {},
     "output_type": "execute_result"
    }
   ],
   "source": [
    "studname[4]"
   ]
  },
  {
   "cell_type": "code",
   "execution_count": 12,
   "id": "4cc48b34",
   "metadata": {},
   "outputs": [
    {
     "data": {
      "text/plain": [
       "['Shams', 'Modest', 'Nizam']"
      ]
     },
     "execution_count": 12,
     "metadata": {},
     "output_type": "execute_result"
    }
   ],
   "source": [
    "studname[2:5]"
   ]
  },
  {
   "cell_type": "code",
   "execution_count": 13,
   "id": "acf735df",
   "metadata": {},
   "outputs": [],
   "source": [
    "numlist = [20,15,80,17,25]"
   ]
  },
  {
   "cell_type": "code",
   "execution_count": 14,
   "id": "c3089aad",
   "metadata": {},
   "outputs": [],
   "source": [
    "num2 = [14,1,7,8]"
   ]
  },
  {
   "cell_type": "code",
   "execution_count": 15,
   "id": "d5e516fa",
   "metadata": {},
   "outputs": [],
   "source": [
    "newnum = numlist+num2"
   ]
  },
  {
   "cell_type": "code",
   "execution_count": 16,
   "id": "c17be9d3",
   "metadata": {},
   "outputs": [
    {
     "data": {
      "text/plain": [
       "[20, 15, 80, 17, 25, 14, 1, 7, 8]"
      ]
     },
     "execution_count": 16,
     "metadata": {},
     "output_type": "execute_result"
    }
   ],
   "source": [
    "newnum"
   ]
  },
  {
   "cell_type": "code",
   "execution_count": 17,
   "id": "76c75b9b",
   "metadata": {},
   "outputs": [],
   "source": [
    "newnum.sort()"
   ]
  },
  {
   "cell_type": "code",
   "execution_count": 18,
   "id": "25690cc5",
   "metadata": {},
   "outputs": [
    {
     "data": {
      "text/plain": [
       "[1, 7, 8, 14, 15, 17, 20, 25, 80]"
      ]
     },
     "execution_count": 18,
     "metadata": {},
     "output_type": "execute_result"
    }
   ],
   "source": [
    "newnum"
   ]
  },
  {
   "cell_type": "code",
   "execution_count": 19,
   "id": "f10b8e78",
   "metadata": {},
   "outputs": [],
   "source": [
    "newnum.sort(reverse=True)"
   ]
  },
  {
   "cell_type": "code",
   "execution_count": 20,
   "id": "034ef334",
   "metadata": {},
   "outputs": [
    {
     "name": "stdout",
     "output_type": "stream",
     "text": [
      "[80, 25, 20, 17, 15, 14, 8, 7, 1]\n"
     ]
    }
   ],
   "source": [
    "print(newnum)"
   ]
  },
  {
   "cell_type": "code",
   "execution_count": 21,
   "id": "6951fc0f",
   "metadata": {},
   "outputs": [
    {
     "name": "stdout",
     "output_type": "stream",
     "text": [
      "what is your cuurent age? 30\n",
      "you have 60 years, 21900 days, 3120 weeks, 720 months remaining\n"
     ]
    }
   ],
   "source": [
    "age = input( \"what is your cuurent age? \")\n",
    "\n",
    "age_as_int = int(age)\n",
    "years_remaining = 90 - age_as_int\n",
    "days_remaining = years_remaining * 365\n",
    "weeks_remaining = years_remaining * 52\n",
    "months_remaining = years_remaining * 12\n",
    "\n",
    "message = f\"you have {years_remaining} years, {days_remaining} days, {weeks_remaining} weeks, {months_remaining} months remaining\"\n",
    "\n",
    "print(message)"
   ]
  },
  {
   "cell_type": "code",
   "execution_count": 22,
   "id": "c5dc5cf5",
   "metadata": {},
   "outputs": [
    {
     "name": "stdout",
     "output_type": "stream",
     "text": [
      "enter the year you want? 2023\n",
      "this is a not leap year\n"
     ]
    }
   ],
   "source": [
    "#leap year\n",
    "\n",
    "year = int(input(\"enter the year you want? \"))\n",
    "\n",
    "if year % 4 == 0:\n",
    "    if year % 100 == 0:\n",
    "        if year % 400 == 0:\n",
    "            print(\"this is a leap year\")\n",
    "        else:\n",
    "            print(\"this is not a leap year\")\n",
    "    else:\n",
    "        print(\"this is a leap year\")\n",
    "else:\n",
    "    print(\"this is a not leap year\")\n",
    "    \n"
   ]
  },
  {
   "cell_type": "code",
   "execution_count": 4,
   "id": "619b23d7",
   "metadata": {},
   "outputs": [
    {
     "name": "stdout",
     "output_type": "stream",
     "text": [
      "Welcome to Voldermont train ride\n",
      "please input your height: 121\n",
      "you are eligiable to take the ride\n",
      "please input your age: 23\n",
      "your bill is $20\n",
      "do you want your photo taken? y or n: y\n"
     ]
    }
   ],
   "source": [
    "#Rollercoaster ride\n",
    "\n",
    "print(\"Welcome to Voldermont train ride\")\n",
    "height = int(input(\"please input your height: \"))\n",
    "bill = 0\n",
    "\n",
    "if height >=120:\n",
    "    print(\"you are eligiable to take the ride\")\n",
    "    age = int(input(\"please input your age: \"))\n",
    "    if age < 12:\n",
    "        bill = 10\n",
    "        print(\"please pay $10\")\n",
    "    elif age <= 18:\n",
    "        bill = 15\n",
    "        print(\"please pay $15\")\n",
    "    else:\n",
    "        bill = 20\n",
    "        print(\"your bill is $20\")\n",
    "        \n",
    "wants_photo = input(\"do you want your photo taken? y or n: \")\n",
    "if wants_photo == \"y\":\n",
    "        bill = bill + 3        \n",
    "else:\n",
    "    print(\"please grow taller to be able to take the ride\")\n",
    "\n",
    "print=f\" your total bill is ${bill},thanks for taking the ride\""
   ]
  },
  {
   "cell_type": "code",
   "execution_count": 9,
   "id": "743175ea",
   "metadata": {},
   "outputs": [
    {
     "name": "stdout",
     "output_type": "stream",
     "text": [
      "Welcome to love calculator!\n",
      "what is your name? \n",
      "adegboyega adekoya\n",
      "what is your name? \n",
      "adegun kemi\n",
      "67\n",
      "your love score is 67\n"
     ]
    }
   ],
   "source": [
    "#love calculator\n",
    "\n",
    "print(\"Welcome to love calculator!\")\n",
    "name1 = input(\"what is your name? \\n\")\n",
    "name2 = input(\"what is your name? \\n\")\n",
    "\n",
    "combined_string = name1 + name2\n",
    "lower_case_string = combined_string.lower()\n",
    "\n",
    "t = lower_case_string.count(\"t\")\n",
    "r = lower_case_string.count(\"r\")\n",
    "u = lower_case_string.count(\"u\")\n",
    "e = lower_case_string.count(\"e\")\n",
    "\n",
    "true = t + r + u + e\n",
    "\n",
    "L = lower_case_string.count(\"L\")\n",
    "o = lower_case_string.count(\"o\")\n",
    "v = lower_case_string.count(\"v\")\n",
    "e = lower_case_string.count(\"e\")\n",
    "\n",
    "Love = L + o + v + e\n",
    "\n",
    "love_score = int(str(true) + str(Love))\n",
    "\n",
    "print(love_score)\n",
    "\n",
    "if love_score <10 or love_score >90:\n",
    "    print(F\"your love score is {love_score}, your love is like coke and mentos\")\n",
    "if love_score >=40 and love_score <=50: \n",
    "    print(f\"your love is {love_score}, you are alright together\")\n",
    "else:\n",
    "    print(f\"your love score is {love_score}\")\n"
   ]
  },
  {
   "cell_type": "code",
   "execution_count": null,
   "id": "d415d9f7",
   "metadata": {},
   "outputs": [],
   "source": []
  },
  {
   "cell_type": "code",
   "execution_count": null,
   "id": "a49fc103",
   "metadata": {},
   "outputs": [],
   "source": []
  }
 ],
 "metadata": {
  "kernelspec": {
   "display_name": "Python 3 (ipykernel)",
   "language": "python",
   "name": "python3"
  },
  "language_info": {
   "codemirror_mode": {
    "name": "ipython",
    "version": 3
   },
   "file_extension": ".py",
   "mimetype": "text/x-python",
   "name": "python",
   "nbconvert_exporter": "python",
   "pygments_lexer": "ipython3",
   "version": "3.11.4"
  }
 },
 "nbformat": 4,
 "nbformat_minor": 5
}
